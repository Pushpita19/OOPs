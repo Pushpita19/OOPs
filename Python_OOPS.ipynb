{
  "cells": [
    {
      "cell_type": "markdown",
      "metadata": {
        "id": "g7HQi9FjAoSO"
      },
      "source": [
        "#Python OOPs Questions"
      ]
    },
    {
      "cell_type": "markdown",
      "metadata": {
        "id": "eD1qv-r9BdUw"
      },
      "source": [
        "**Q.1 What is Object-Oriented Programming (OOP)?**\n",
        "- Object- Oriented Programming (OOp) is a programming approach that organizes code into objects. OOP allows us to model real-life entities as objects and define their attributes and methods."
      ]
    },
    {
      "cell_type": "markdown",
      "metadata": {
        "id": "VYDl3QatBPRr"
      },
      "source": [
        "**Q.2 What is a class in OOP?**\n",
        "- Class in OOP defines as template for creating objects. It defines the properties and methods that the objects created from it will have."
      ]
    },
    {
      "cell_type": "markdown",
      "metadata": {
        "id": "k7HfvwBBBbwZ"
      },
      "source": [
        "**Q.3 What is an object in OOP?**\n",
        "- An object is an instance of a class that holds actual data and can perform operations defined by the class methods."
      ]
    },
    {
      "cell_type": "markdown",
      "metadata": {
        "id": "qz4y-lHcBWp5"
      },
      "source": [
        "**Q.4 What is the difference between abstraction and encapsulation?**\n",
        "- Abstraction is the process of hiding the complex implementation details and showing only the necessary features of an object. It helps in hiding unimportant details and explosing the required ones.\n",
        "-  While Encapsulation is the process of binding data (variables) and methods together and restricting direct access to some of the object’s components.It helps in protecting the data from unintended access and modification, ensuring control over how the data is accessed and changed."
      ]
    },
    {
      "cell_type": "markdown",
      "metadata": {
        "id": "-CvrBq1IB-UA"
      },
      "source": [
        "**Q.5 What are dunder methods in Python?**\n",
        "- Dunder method is short form of \"Double UNDERscore methods\".\n",
        "- These methods are the methods defined by built-in classes in python.\n",
        "- Helpful for creating custom objects.\n",
        "- It also helps in implementing operator overloading in python.\n",
        "- It is associated with 'str', 'int' etc.\n",
        "- It is also known as magic/special method."
      ]
    },
    {
      "cell_type": "markdown",
      "metadata": {
        "id": "EKska8DHB-Za"
      },
      "source": [
        "**Q.6 Explain the concept of inheritance in OOPs.**\n",
        "- Inheritance in OOp allows a class (child) to inherit properties and behaviour from another class (parent).\n",
        "- It helps in code resuability.\n",
        "- There are different types of inheritance-\n",
        "- a. Single inheritace, b. Multiple inheritance c. Multilevel inheritance d. Hierarchical inheritance e. Hybrid inheritance."
      ]
    },
    {
      "cell_type": "code",
      "source": [
        "#syntax\n",
        "class Parent:\n",
        "  def parent_method(self):\n",
        "    pass\n",
        "    print(\"Parent method\")\n",
        "\n",
        "class Child(Parent):\n",
        "  def child_method(self):\n",
        "    pass\n",
        "    print(\"Child method\")\n",
        "\n",
        "object = Child()\n",
        "object.child_method()\n",
        "object.parent_method()"
      ],
      "metadata": {
        "colab": {
          "base_uri": "https://localhost:8080/"
        },
        "id": "slOvWEeS5EHP",
        "outputId": "84ba3ead-8346-4f13-b377-584b9b7bde7c"
      },
      "execution_count": 21,
      "outputs": [
        {
          "output_type": "stream",
          "name": "stdout",
          "text": [
            "Child method\n",
            "Parent method\n"
          ]
        }
      ]
    },
    {
      "cell_type": "markdown",
      "metadata": {
        "id": "CySLamcNCKH-"
      },
      "source": [
        "**Q.7  What is polymorphism in OOP?**\n",
        "- Polymorphism in OOP refers to an object taking several forms depending on methods/data.\n",
        "- It enables a single interface to represent different underlying data types.\n",
        "- Polymorphism in OOPs takes places in two ways-\n",
        "- Method overloading(python doesnot support true method  overloading).\n",
        "- Method overriding\n",
        "\n"
      ]
    },
    {
      "cell_type": "markdown",
      "metadata": {
        "id": "jReG3N8tCdW-"
      },
      "source": [
        "**Q.8 How is encapsulation achieved in Python?**\n",
        "- Encapsulation in OOPs refers to restricting direct accress to certain components of an object and only exposing the necessary parts through controlled methods.\n",
        "- It is achieved by access modifier like\n",
        "-Public (accessible from anywhere from outside/inside of a class.)\n",
        "-Protected - can be accssed within the class and its subclass, protected member can access and it is done by using _ (single underscore).\n",
        "-Private- data and method is only accessibe within the class and it is possible by using __ ."
      ]
    },
    {
      "cell_type": "markdown",
      "metadata": {
        "id": "HATfzAE5C__5"
      },
      "source": [
        "**Q.9 What is a constructor in Python?**\n",
        "- A constructor is a special method in Python that is automatically called when an object is created from a class.\n",
        "- In python, the constructor method is named __init__().\n",
        "- It helps in initializing the object's attributes when the object is created."
      ]
    },
    {
      "cell_type": "markdown",
      "metadata": {
        "id": "xTgoRyO1DLCn"
      },
      "source": [
        "**Q.10 What are class and static methods in Python?**\n",
        "- Class method uses the @classmethod decorator.\n",
        "-First parameter is class, it can modify class attributes.\n",
        "\n",
        "- Static method uses @staticmethod decorator.\n",
        "- It does not take class or self as the first argument.\n",
        "- It cannot modify instance attributes or class attributes."
      ]
    },
    {
      "cell_type": "markdown",
      "metadata": {
        "id": "DLUtw9zZDYh_"
      },
      "source": [
        "**Q.11 What is method overloading in Python?**\n",
        "- Method overloading allows a classto define multiple methods with the same name but different parameters.\n",
        "-In Java, C++, method overloading is supported directly based on the number and type of pararmeters. But in python, true overloading is not supported."
      ]
    },
    {
      "cell_type": "markdown",
      "metadata": {
        "id": "UA5sVoiNj_BT"
      },
      "source": [
        "**Q.12 What is method overriding in OOP?**\n",
        "- Method overrriding in OOPs allows a child class to provide a specific implementation of a method that is already defined in the parent class.\n",
        "-"
      ]
    },
    {
      "cell_type": "code",
      "source": [
        "class Animal :\n",
        "  def sound(self):\n",
        "    print(\"Animal makes a sound\")\n",
        "\n",
        "class Horse(Animal):\n",
        "  def sound(self):\n",
        "    print(\"Horse neighs\")\n",
        "\n",
        "anm = Animal() #parent class\n",
        "anm.sound()"
      ],
      "metadata": {
        "colab": {
          "base_uri": "https://localhost:8080/"
        },
        "id": "UV1ZImrPBGcX",
        "outputId": "e15692a9-17af-4530-fc45-7a502fd5773b"
      },
      "execution_count": 22,
      "outputs": [
        {
          "output_type": "stream",
          "name": "stdout",
          "text": [
            "Animal makes a sound\n"
          ]
        }
      ]
    },
    {
      "cell_type": "code",
      "source": [
        "hrs = Horse() #child class\n",
        "hrs.sound()"
      ],
      "metadata": {
        "colab": {
          "base_uri": "https://localhost:8080/"
        },
        "id": "u8vl9OSrBdmR",
        "outputId": "a3a46cc8-225b-4931-a14c-2746364291de"
      },
      "execution_count": 23,
      "outputs": [
        {
          "output_type": "stream",
          "name": "stdout",
          "text": [
            "Horse neighs\n"
          ]
        }
      ]
    },
    {
      "cell_type": "markdown",
      "metadata": {
        "id": "7ySeVKE2kFSG"
      },
      "source": [
        "**Q.13 What is a property decorator in Python?**\n",
        "- In python, property decorator is used to define a getter, setter and deleter for an attribute without directly exposing it to the outside world.\n",
        "- It helps implement encapsulation and data validation in an elegant way."
      ]
    },
    {
      "cell_type": "markdown",
      "metadata": {
        "id": "_wy4mUUPkKoD"
      },
      "source": [
        "**Q.14 Why is polymorphism important in OOP?**\n",
        "- Polymorphism in OOP allows to write a code which is reusable.\n",
        "- It helps in testing and debugging the code.\n",
        "- Changes made to the base to base class automatically appply to all the derived class.\n",
        "- It adds new types without modifying the existing code."
      ]
    },
    {
      "cell_type": "markdown",
      "metadata": {
        "id": "4t2NHy7BkOnv"
      },
      "source": [
        "**Q.15 What is an abstract class in Python?**\n",
        "- Abstract class in Python is a blueprint for other classes.\n",
        "- They are meant to be inherited by subclasses that implement the abstract methods.\n",
        "- It is defined using the ABC class from the abc module."
      ]
    },
    {
      "cell_type": "code",
      "source": [
        "from abc import ABC, abstractmethod\n",
        "\n",
        "class Animal(ABC):\n",
        "  @abstractmethod\n",
        "  def sound(self):\n",
        "    pass\n",
        "\n",
        "class Dog(Animal):\n",
        "  def sound(self):\n",
        "    print(\"Dog barks\")\n",
        "\n",
        "class Cat(Animal):\n",
        "  def sound(self):\n",
        "    print(\"Cat meows\")\n",
        "\n",
        "dog = Dog()\n",
        "dog.sound()\n",
        "\n",
        "cat= Cat()\n",
        "cat.sound()"
      ],
      "metadata": {
        "colab": {
          "base_uri": "https://localhost:8080/"
        },
        "id": "-ppWMXwQWPfl",
        "outputId": "2aaae0e5-61c5-4a65-e23f-24eb65129121"
      },
      "execution_count": 39,
      "outputs": [
        {
          "output_type": "stream",
          "name": "stdout",
          "text": [
            "Dog barks\n",
            "Cat meows\n"
          ]
        }
      ]
    },
    {
      "cell_type": "markdown",
      "metadata": {
        "id": "a2tYL-QhkScV"
      },
      "source": [
        "**Q.16 What are the advantages of OOP?**\n",
        "-  The advantages of OOPs are that codes can be resuable; it allows to model real-life entities and define the behaviour of these objects through methods and attributes.\n",
        "- OOps can make code more scalable and maintainable by using principle like inheritance, polymorphism, encapsulation etc.\n"
      ]
    },
    {
      "cell_type": "markdown",
      "metadata": {
        "id": "O6fbpc_qkY-P"
      },
      "source": [
        "**Q.17 What is the difference between a class variable and an instance variable?**\n",
        "- A class variable us shared by all objects of the class but instance variable is specific to a particular object.\n",
        "- Class variable is defined outside of any method in the class and instance variable is defined inside the __ init __ () method using self.\n",
        "- If any changes is done in the class variable , it impacts all the instances of the class.\n",
        "- If any changes is implemented in instance variable, it affects only that instance."
      ]
    },
    {
      "cell_type": "markdown",
      "metadata": {
        "id": "9EN08Jk1kgbT"
      },
      "source": [
        "**Q.18 What is multiple inheritance in Python?**\n",
        "- Multiple inheritance in OOPs is a feature where a class can be inherited from more than a one parent class.\n",
        "- Python supports multiple inheritance, allowing a class to have more than one base class."
      ]
    },
    {
      "cell_type": "code",
      "source": [
        "#Example of multiple inheritance\n",
        "class Father:                         #parent1\n",
        "    def height(self):\n",
        "        print(\"Height is 6 feet\")\n",
        "\n",
        "class Mother:                         #parent2\n",
        "    def skills(self):\n",
        "        print(\"Good at Cooking\")\n",
        "\n",
        "# Child class inheriting from both Father and Mother\n",
        "class Child(Father, Mother):\n",
        "  def talent (self):\n",
        "    print(\"Good at sports\")\n",
        "\n",
        "c= Child()\n",
        "c.height()\n",
        "c.skills()\n",
        "c.talent()"
      ],
      "metadata": {
        "colab": {
          "base_uri": "https://localhost:8080/"
        },
        "id": "F_jDcaghZ32W",
        "outputId": "bd4cc081-a55c-4492-9213-b51981b5ca62"
      },
      "execution_count": 44,
      "outputs": [
        {
          "output_type": "stream",
          "name": "stdout",
          "text": [
            "Height is 6 feet\n",
            "Good at Cooking\n",
            "Good at sports\n"
          ]
        }
      ]
    },
    {
      "cell_type": "markdown",
      "metadata": {
        "id": "4v5VWltpklJj"
      },
      "source": [
        "**Q.19 Explain the purpose of ‘’__str__’ and ‘__repr__’ ‘ methods in Python?**\n",
        "- In python, __str__ is used to create a readable and user-friendly string representation of an object.\n",
        "- It is called by built-in function str() and print()."
      ]
    },
    {
      "cell_type": "code",
      "source": [
        "class Person:\n",
        "    def __init__(self, name, age):\n",
        "        self.name = name\n",
        "        self.age = age\n",
        "\n",
        "    def __str__(self):\n",
        "        return f\"Person(name={self.name}, age={self.age})\"\n",
        "\n",
        "person = Person(\"Radha\", 21)\n",
        "print(person)\n"
      ],
      "metadata": {
        "colab": {
          "base_uri": "https://localhost:8080/"
        },
        "id": "5y3i2Vocce-N",
        "outputId": "f05d0981-919b-4584-891e-0977a2000d27"
      },
      "execution_count": 46,
      "outputs": [
        {
          "output_type": "stream",
          "name": "stdout",
          "text": [
            "Person(name=Radha, age=21)\n"
          ]
        }
      ]
    },
    {
      "cell_type": "markdown",
      "source": [
        "\"repr\" method is used to create an official and developer-friendly string representation of an object.\n",
        "- It is called by the built-in function repr() and the interactive shell.\n",
        "- It should return a string that can be used to recreate the object.\n",
        "- It gives debug friendly output."
      ],
      "metadata": {
        "id": "fvOlS8E9c1qc"
      }
    },
    {
      "cell_type": "code",
      "source": [
        "#example of repr method\n",
        "class Person:\n",
        "    def __init__(self, name, age):\n",
        "        self.name = name\n",
        "        self.age = age\n",
        "\n",
        "    def __repr__(self):\n",
        "        return f\"Person('{self.name}', {self.age})\"\n",
        "\n",
        "person = Person(\"Ram\", 30)\n",
        "print(repr(person))\n"
      ],
      "metadata": {
        "colab": {
          "base_uri": "https://localhost:8080/"
        },
        "id": "_K5hraaHeJ6e",
        "outputId": "04fd2651-8d08-4eda-9a55-cb0101c5f466"
      },
      "execution_count": 47,
      "outputs": [
        {
          "output_type": "stream",
          "name": "stdout",
          "text": [
            "Person('Ram', 30)\n"
          ]
        }
      ]
    },
    {
      "cell_type": "markdown",
      "metadata": {
        "id": "3iIA4JIWkpoI"
      },
      "source": [
        "**Q.20 What is the significance of the ‘super()’ function in Python?**\n",
        "- The super() function in python is used to\n",
        "- access methods and attributes from a parent class.\n",
        "- It allows a subclass to call a method defined in its parent class without needing to explicity name the parent class.\n",
        "- It supports multiple inheritance."
      ]
    },
    {
      "cell_type": "markdown",
      "metadata": {
        "id": "Y9oOhb2PktGl"
      },
      "source": [
        "**Q.21 What is the significance of the __del__ method in Python?**\n",
        "- The __ del __ method is also called destructor.\n",
        "- It is automatically called when an object is deleted.\n",
        "- Its objective is to perform cleanup when an object is no longer needed."
      ]
    },
    {
      "cell_type": "markdown",
      "metadata": {
        "id": "YPlgZNpTkw8w"
      },
      "source": [
        "**Q.22 What is the difference between @staticmethod and @classmethod in Python?**\n",
        "- @staticmethod declares a method that does not take a reference to the class.\n",
        "- It does not modify/access the class state .\n",
        "- @ classmethod  declares a method that takes a reference to the class as the first argument.\n",
        "- It can modify attribute associated to class acroos all the instances."
      ]
    },
    {
      "cell_type": "markdown",
      "metadata": {
        "id": "ccpr47M_k2XC"
      },
      "source": [
        "**Q.23 How does polymorphism work in Python with inheritance?**\n",
        "- Polymorphism through inheritance alllows child classes to define their own behaviour while retaining the interface of the parent class.\n",
        "- When a child class overrides a method from a parent class, teh child's version is used at runtime, even when the object is referenced by a parent type."
      ]
    },
    {
      "cell_type": "code",
      "source": [
        "class MusicalInstrument:\n",
        "    def play(self):\n",
        "        pass\n",
        "\n",
        "class Guitar(MusicalInstrument):\n",
        "    def play(self):\n",
        "        print(\"Playing Guitar\")\n",
        "\n",
        "class Piano(MusicalInstrument):\n",
        "    def play(self):\n",
        "        print(\"Playing Piano\")"
      ],
      "metadata": {
        "id": "FXW6iKQ8izFn"
      },
      "execution_count": 48,
      "outputs": []
    },
    {
      "cell_type": "code",
      "source": [
        "music = [Guitar(), Piano()]\n",
        "for MusicalInstrument in music:\n",
        "  MusicalInstrument.play()"
      ],
      "metadata": {
        "colab": {
          "base_uri": "https://localhost:8080/"
        },
        "id": "e53gIuASi4Wz",
        "outputId": "261061d2-cc85-4e7d-da75-0fba4744bf27"
      },
      "execution_count": 52,
      "outputs": [
        {
          "output_type": "stream",
          "name": "stdout",
          "text": [
            "Playing Guitar\n",
            "Playing Piano\n"
          ]
        }
      ]
    },
    {
      "cell_type": "markdown",
      "metadata": {
        "id": "CVcm_t4Ak7Db"
      },
      "source": [
        "**Q.24  What is method chaining in Python OOP?**\n",
        "- Method chaining is a technique in OOPs where multiple methods are called on the same object in a single statement.\n",
        "- Each method returns self.\n",
        "- The returned object allows to call the nex method directly.\n",
        "- It makes the code more readable and concise.\n",
        "-It executes in sequence from left to right."
      ]
    },
    {
      "cell_type": "markdown",
      "metadata": {
        "id": "cwGnDUFwlM_b"
      },
      "source": [
        "**Q.25 What is the purpose of the __call__ method in Python?**\n",
        "- The __ call __ method in python allows an instance of a class to be called like a function. This makes the object callable (can be called as if its a function).\n",
        "- It is used in decorators, function objects."
      ]
    },
    {
      "cell_type": "code",
      "source": [
        "class Greet:\n",
        "  def __call__ (self, name):\n",
        "    return f'Hello {name}'\n",
        "\n",
        "greet = Greet()\n",
        "greet('Krishna')"
      ],
      "metadata": {
        "colab": {
          "base_uri": "https://localhost:8080/",
          "height": 36
        },
        "id": "Svum6yIblDS4",
        "outputId": "e719433d-6a02-403e-dd15-4075c976a876"
      },
      "execution_count": 53,
      "outputs": [
        {
          "output_type": "execute_result",
          "data": {
            "text/plain": [
              "'Hello Krishna'"
            ],
            "application/vnd.google.colaboratory.intrinsic+json": {
              "type": "string"
            }
          },
          "metadata": {},
          "execution_count": 53
        }
      ]
    },
    {
      "cell_type": "markdown",
      "metadata": {
        "id": "e7QocCirlRiT"
      },
      "source": [
        "#Practical Questions"
      ]
    },
    {
      "cell_type": "markdown",
      "metadata": {
        "id": "SFxWY2I8lUYm"
      },
      "source": [
        "**Q.1  Create a parent class Animal with a method speak() that prints a generic message . Create a child class DOg that iverrides the speak() method to print \"Bark!\".**"
      ]
    },
    {
      "cell_type": "code",
      "execution_count": null,
      "metadata": {
        "id": "YbNPlirPlxuP"
      },
      "outputs": [],
      "source": [
        "class Animal:\n",
        "    def speak(self):\n",
        "        print(\"Every animal makes an unique sound\")\n",
        "\n",
        "class Dog(Animal):\n",
        "    def speak(self):\n",
        "        print(\"Bark!\")\n",
        "\n"
      ]
    },
    {
      "cell_type": "code",
      "execution_count": null,
      "metadata": {
        "colab": {
          "base_uri": "https://localhost:8080/"
        },
        "id": "plqM998zHWXa",
        "outputId": "944b8a79-819a-499d-aca5-4eb66192e904"
      },
      "outputs": [
        {
          "name": "stdout",
          "output_type": "stream",
          "text": [
            "Every animal makes an unique sound\n",
            "Bark!\n"
          ]
        }
      ],
      "source": [
        "animal = Animal()\n",
        "dog = Dog()\n",
        "animal.speak()\n",
        "dog.speak()"
      ]
    },
    {
      "cell_type": "markdown",
      "metadata": {
        "id": "JdLxikhOlyMk"
      },
      "source": [
        "**Q.2 Write a program to create an abstract class Shape with a method area(). Derive classes Circle and Rectangle from it and implement the area () method in both.**"
      ]
    },
    {
      "cell_type": "code",
      "source": [
        "from abc import ABC, abstractmethod\n",
        "\n",
        "class Shape(ABC):\n",
        "  @abstractmethod\n",
        "  def area_calculation(self):\n",
        "      pass\n"
      ],
      "metadata": {
        "id": "PaJngzIZ3L2H"
      },
      "execution_count": 56,
      "outputs": []
    },
    {
      "cell_type": "code",
      "source": [
        "class Circle(Shape):\n",
        "  def __init__(self, radius):\n",
        "    self.radius = radius\n",
        "\n",
        "  def area_calculation(self):\n",
        "    return 3.14 * self.radius * self.radius"
      ],
      "metadata": {
        "id": "AEwe2uWjnMZX"
      },
      "execution_count": 57,
      "outputs": []
    },
    {
      "cell_type": "code",
      "source": [
        "c= Circle(7)\n",
        "c.area_calculation()"
      ],
      "metadata": {
        "colab": {
          "base_uri": "https://localhost:8080/"
        },
        "id": "kZMNebOtnMdd",
        "outputId": "0c2584fe-0221-408b-98c0-478127be3bf9"
      },
      "execution_count": 58,
      "outputs": [
        {
          "output_type": "execute_result",
          "data": {
            "text/plain": [
              "153.86"
            ]
          },
          "metadata": {},
          "execution_count": 58
        }
      ]
    },
    {
      "cell_type": "code",
      "source": [
        "class Rectangle(Shape):\n",
        "  def __init__(self,length, breadth):\n",
        "    self.length = length\n",
        "    self.breadth = breadth\n",
        "\n",
        "  def area_calculation(self):\n",
        "    return self.length * self.breadth"
      ],
      "metadata": {
        "id": "LPg5wYzDnuoO"
      },
      "execution_count": 63,
      "outputs": []
    },
    {
      "cell_type": "code",
      "source": [
        "r = Rectangle(5,6)\n",
        "r.area_calculation()"
      ],
      "metadata": {
        "colab": {
          "base_uri": "https://localhost:8080/"
        },
        "id": "prYLRXJLsHiw",
        "outputId": "28078fa0-276d-4811-be64-f68196b152e7"
      },
      "execution_count": 64,
      "outputs": [
        {
          "output_type": "execute_result",
          "data": {
            "text/plain": [
              "30"
            ]
          },
          "metadata": {},
          "execution_count": 64
        }
      ]
    },
    {
      "cell_type": "markdown",
      "metadata": {
        "id": "PM75hygrDgca"
      },
      "source": [
        "**Q.3 Implement a multi-level inheritance scenario where a class Vehicle has attribute type. Derive a class Car and further derive a class Electric Car that adds a battery attribute.**"
      ]
    },
    {
      "cell_type": "code",
      "source": [
        "class Vehicle:\n",
        "  def __init__(self,type):\n",
        "    self.type = type\n",
        ""
      ],
      "metadata": {
        "id": "rfxb0QFDr3Pl"
      },
      "execution_count": 65,
      "outputs": []
    },
    {
      "cell_type": "code",
      "execution_count": 66,
      "metadata": {
        "id": "9gJPSnGaERpT"
      },
      "outputs": [],
      "source": [
        "class Car(Vehicle):\n",
        "  def __init__(self, type, model):\n",
        "    super().__init__(type)\n",
        "    self.model = model"
      ]
    },
    {
      "cell_type": "code",
      "source": [
        "class ElectricCar(Car):\n",
        "  def __init__(self, type, model, battery):\n",
        "    super().__init__(type, model)\n",
        "    self.battery = battery"
      ],
      "metadata": {
        "id": "SDxmIdMtvJAO"
      },
      "execution_count": 67,
      "outputs": []
    },
    {
      "cell_type": "code",
      "source": [
        "tesla = ElectricCar(\"Electric\", \"Tesla\", \"100kWh\")\n",
        "print(tesla.type)\n",
        "print(tesla.model)\n",
        "print(tesla.battery)"
      ],
      "metadata": {
        "colab": {
          "base_uri": "https://localhost:8080/"
        },
        "id": "os1dSBjOvM5C",
        "outputId": "9db97914-3e01-4bb9-e6a0-27426e366d3c"
      },
      "execution_count": 69,
      "outputs": [
        {
          "output_type": "stream",
          "name": "stdout",
          "text": [
            "Electric\n",
            "Tesla\n",
            "100kWh\n"
          ]
        }
      ]
    },
    {
      "cell_type": "markdown",
      "metadata": {
        "id": "22Y2GuURESNq"
      },
      "source": [
        "Q.4 **Demonstrate polymorphism by creating a base class Bird with a method fly(). Create two derived classes Sparrow and Penguin that override the fly() method.**"
      ]
    },
    {
      "cell_type": "code",
      "execution_count": 70,
      "metadata": {
        "id": "UYKl24L0EuBJ"
      },
      "outputs": [],
      "source": [
        "class Bird:\n",
        "  def fly(self):\n",
        "    return \"Birds can fly with the help of their wings\""
      ]
    },
    {
      "cell_type": "code",
      "source": [
        "class Sparrow(Bird):\n",
        "  def fly(self):\n",
        "    return(\"Sparrows can fly at high speeds\")\n",
        "\n",
        "sparrow = Sparrow()\n",
        "sparrow.fly()"
      ],
      "metadata": {
        "colab": {
          "base_uri": "https://localhost:8080/",
          "height": 36
        },
        "id": "E5I5GWozwYBc",
        "outputId": "28f06351-41d6-491b-cd8c-a43f5bf4efa0"
      },
      "execution_count": 73,
      "outputs": [
        {
          "output_type": "execute_result",
          "data": {
            "text/plain": [
              "'Sparrows can fly at high speeds'"
            ],
            "application/vnd.google.colaboratory.intrinsic+json": {
              "type": "string"
            }
          },
          "metadata": {},
          "execution_count": 73
        }
      ]
    },
    {
      "cell_type": "code",
      "source": [
        "class Penguin(Bird):\n",
        "  def fly(self):\n",
        "    return(\"Penguins cannot fly but they can swim\")\n",
        "\n",
        "penguin = Penguin()\n",
        "penguin.fly()"
      ],
      "metadata": {
        "colab": {
          "base_uri": "https://localhost:8080/",
          "height": 36
        },
        "id": "vtYAV3gMw-6N",
        "outputId": "9d8ae15c-f98f-4f46-c84b-fb4033101906"
      },
      "execution_count": 74,
      "outputs": [
        {
          "output_type": "execute_result",
          "data": {
            "text/plain": [
              "'Penguins cannot fly but they can swim'"
            ],
            "application/vnd.google.colaboratory.intrinsic+json": {
              "type": "string"
            }
          },
          "metadata": {},
          "execution_count": 74
        }
      ]
    },
    {
      "cell_type": "markdown",
      "metadata": {
        "id": "-oHeH-yHFeQU"
      },
      "source": [
        "**Q.5 Write a program to demonstrate encapsulation by creating a class Bank Account with private attribute balance and methods to deposit, withdraw and check balance.**"
      ]
    },
    {
      "cell_type": "code",
      "source": [
        "class BankAccount:\n",
        "  def __init__ (self,balance):\n",
        "    self.__balance = balance\n",
        "\n",
        "  def deposit (self, amount):\n",
        "    self.__balance = self.__balance + amount    #amount is the deposit money\n",
        "\n",
        "  def withdraw(self,amount):\n",
        "    if self.__balance >= amount:\n",
        "      self.__balance = self.__balance - amount\n",
        "      return True\n",
        "    else :\n",
        "      return False\n",
        "\n",
        "  def check_balance(self):\n",
        "    return self.__balance"
      ],
      "metadata": {
        "id": "01YPt-myBsI_"
      },
      "execution_count": 146,
      "outputs": []
    },
    {
      "cell_type": "code",
      "source": [
        "acc1 = BankAccount(1000)   #intial balance\n",
        "acc1.check_balance()"
      ],
      "metadata": {
        "colab": {
          "base_uri": "https://localhost:8080/"
        },
        "id": "Gz3GguioD0fO",
        "outputId": "e855c7d2-3204-422b-e4cc-8457aaac3ead"
      },
      "execution_count": 148,
      "outputs": [
        {
          "output_type": "execute_result",
          "data": {
            "text/plain": [
              "1000"
            ]
          },
          "metadata": {},
          "execution_count": 148
        }
      ]
    },
    {
      "cell_type": "code",
      "source": [
        "acc1.deposit(500)\n",
        "acc1.check_balance()"
      ],
      "metadata": {
        "colab": {
          "base_uri": "https://localhost:8080/"
        },
        "id": "uitG_cciEEVv",
        "outputId": "9065e9eb-35fd-43a1-e7a9-68e4081b489b"
      },
      "execution_count": 149,
      "outputs": [
        {
          "output_type": "execute_result",
          "data": {
            "text/plain": [
              "1500"
            ]
          },
          "metadata": {},
          "execution_count": 149
        }
      ]
    },
    {
      "cell_type": "code",
      "source": [
        "acc1.withdraw(670000)"
      ],
      "metadata": {
        "colab": {
          "base_uri": "https://localhost:8080/"
        },
        "id": "sooU90hiEHND",
        "outputId": "b4dbf19c-8ac1-4051-c502-27dd0b321600"
      },
      "execution_count": 150,
      "outputs": [
        {
          "output_type": "execute_result",
          "data": {
            "text/plain": [
              "False"
            ]
          },
          "metadata": {},
          "execution_count": 150
        }
      ]
    },
    {
      "cell_type": "code",
      "source": [
        "acc1.withdraw(200)"
      ],
      "metadata": {
        "colab": {
          "base_uri": "https://localhost:8080/"
        },
        "id": "0WGgxKT1EKed",
        "outputId": "225153cb-465c-4bb9-d947-28803b260a4f"
      },
      "execution_count": 151,
      "outputs": [
        {
          "output_type": "execute_result",
          "data": {
            "text/plain": [
              "True"
            ]
          },
          "metadata": {},
          "execution_count": 151
        }
      ]
    },
    {
      "cell_type": "code",
      "source": [
        "acc1.check_balance()"
      ],
      "metadata": {
        "colab": {
          "base_uri": "https://localhost:8080/"
        },
        "id": "E2jsVy_GENW0",
        "outputId": "23fab2a0-dbf1-4027-eef6-ddebe9d7f441"
      },
      "execution_count": 152,
      "outputs": [
        {
          "output_type": "execute_result",
          "data": {
            "text/plain": [
              "1300"
            ]
          },
          "metadata": {},
          "execution_count": 152
        }
      ]
    },
    {
      "cell_type": "markdown",
      "metadata": {
        "id": "a698CZ7sGNKJ"
      },
      "source": [
        " **Q.6 Demonstrate runtime polymorphism using a method play() in a base class Instrument. Derive classes Guitar\n",
        "and Piano that implement their own version of play().**"
      ]
    },
    {
      "cell_type": "code",
      "execution_count": 143,
      "metadata": {
        "id": "Ze2AlTagGcLM"
      },
      "outputs": [],
      "source": [
        "class MusicalInstrument:\n",
        "  def play(self):\n",
        "    pass"
      ]
    },
    {
      "cell_type": "code",
      "source": [
        "class Guitar(MusicalInstrument):\n",
        "  def play(self):\n",
        "    return \"Guitar is played in parties\"\n",
        "\n",
        "guitar = Guitar()\n",
        "guitar.play()\n"
      ],
      "metadata": {
        "colab": {
          "base_uri": "https://localhost:8080/",
          "height": 36
        },
        "id": "5FlXpxO3AxmI",
        "outputId": "3a8b8fae-077e-435c-c22f-dbc8a3292049"
      },
      "execution_count": 144,
      "outputs": [
        {
          "output_type": "execute_result",
          "data": {
            "text/plain": [
              "'Guitar is played in parties'"
            ],
            "application/vnd.google.colaboratory.intrinsic+json": {
              "type": "string"
            }
          },
          "metadata": {},
          "execution_count": 144
        }
      ]
    },
    {
      "cell_type": "code",
      "source": [
        "class Piano(MusicalInstrument):\n",
        "  def play(self):\n",
        "    return \"Piano is played in concerts\"\n",
        "\n",
        "piano = Piano()\n",
        "piano.play()"
      ],
      "metadata": {
        "colab": {
          "base_uri": "https://localhost:8080/",
          "height": 36
        },
        "id": "Qip-yfywBR45",
        "outputId": "81365790-0291-4a9d-aef7-3833d8f9896a"
      },
      "execution_count": 145,
      "outputs": [
        {
          "output_type": "execute_result",
          "data": {
            "text/plain": [
              "'Piano is played in concerts'"
            ],
            "application/vnd.google.colaboratory.intrinsic+json": {
              "type": "string"
            }
          },
          "metadata": {},
          "execution_count": 145
        }
      ]
    },
    {
      "cell_type": "markdown",
      "metadata": {
        "id": "2YmJYt76Gcfp"
      },
      "source": [
        "**Q.7 Create a class MathOperations with a class method add_numbers() to add two numbers and a static\n",
        "method subtract_numbers() to subtract two numbers.**"
      ]
    },
    {
      "cell_type": "code",
      "execution_count": 139,
      "metadata": {
        "id": "sRRDwTuuGxHh",
        "colab": {
          "base_uri": "https://localhost:8080/"
        },
        "outputId": "5afc6fa9-2132-4786-9188-ad53c88dc530"
      },
      "outputs": [
        {
          "output_type": "execute_result",
          "data": {
            "text/plain": [
              "30"
            ]
          },
          "metadata": {},
          "execution_count": 139
        }
      ],
      "source": [
        "class MathOperations:\n",
        "  @classmethod\n",
        "  def add_numbers(cls, n1, n2):\n",
        "    return n1+n2\n",
        "\n",
        "  @staticmethod\n",
        "  def subtract_numbers(n1, n2):\n",
        "    return n1-n2\n",
        "\n",
        "add1 =MathOperations\n",
        "add1.add_numbers(10,20)"
      ]
    },
    {
      "cell_type": "code",
      "source": [
        "subtract1 = MathOperations\n",
        "subtract1.subtract_numbers(10,20)"
      ],
      "metadata": {
        "colab": {
          "base_uri": "https://localhost:8080/"
        },
        "id": "mxdcNiY-AacH",
        "outputId": "1d0a71d4-bb8d-4cbf-c1b1-99f8924df95e"
      },
      "execution_count": 141,
      "outputs": [
        {
          "output_type": "execute_result",
          "data": {
            "text/plain": [
              "-10"
            ]
          },
          "metadata": {},
          "execution_count": 141
        }
      ]
    },
    {
      "cell_type": "markdown",
      "metadata": {
        "id": "apWbFyAWGxd3"
      },
      "source": [
        "**Q.8  Implement a class Person with a class method to count the total number of persons created.**"
      ]
    },
    {
      "cell_type": "code",
      "execution_count": 134,
      "metadata": {
        "id": "p_aMdsutG3TQ",
        "colab": {
          "base_uri": "https://localhost:8080/"
        },
        "outputId": "f2358c74-1419-4d42-909e-430709ffcff1"
      },
      "outputs": [
        {
          "output_type": "stream",
          "name": "stdout",
          "text": [
            "4\n"
          ]
        }
      ],
      "source": [
        "class Person:\n",
        "  count = 0\n",
        "\n",
        "  def __init__(self, name):\n",
        "    self.name= name\n",
        "    Person.count +=1\n",
        "\n",
        "  @classmethod\n",
        "  def total_person(cls):\n",
        "    return cls.count\n",
        "\n",
        "p1 = Person(\"krishna\")\n",
        "p2 = Person(\"Radha\")\n",
        "p3 = Person(\"Ram\")\n",
        "p4= Person( \"Sita\")\n",
        "print(Person.total_person())\n"
      ]
    },
    {
      "cell_type": "markdown",
      "metadata": {
        "id": "Hu21t71VG5Av"
      },
      "source": [
        "**Q.9 Write a class Fraction with attributes numerator and denominator. Override the str method to display the\n",
        "fraction as \"numerator/denominator\".**"
      ]
    },
    {
      "cell_type": "code",
      "execution_count": 133,
      "metadata": {
        "id": "_jWbddPvG9_i",
        "colab": {
          "base_uri": "https://localhost:8080/"
        },
        "outputId": "3127ae40-c231-413b-a6d7-4a512f6e70ef"
      },
      "outputs": [
        {
          "output_type": "stream",
          "name": "stdout",
          "text": [
            "17/ 11\n"
          ]
        }
      ],
      "source": [
        "class Fraction:\n",
        "  def __init__(self, numerator, denominator):\n",
        "    self.numerator = numerator\n",
        "    self.denominator = denominator\n",
        "\n",
        "  def __str__(self):\n",
        "    return f\"{self.numerator}/ {self.denominator}\"\n",
        "\n",
        "frac1= Fraction(17,11)\n",
        "print(frac1)"
      ]
    },
    {
      "cell_type": "markdown",
      "metadata": {
        "id": "p5ImqUF9G-Nn"
      },
      "source": [
        "**Q.10 Demonstrate operator overloading by creating a class Vector and overriding the add method to add two\n",
        "vectors.**"
      ]
    },
    {
      "cell_type": "code",
      "execution_count": 131,
      "metadata": {
        "id": "KzRv0ZlGHHX_",
        "colab": {
          "base_uri": "https://localhost:8080/"
        },
        "outputId": "8a8c69e7-eb98-4432-9e0d-82d55979ccff"
      },
      "outputs": [
        {
          "output_type": "stream",
          "name": "stdout",
          "text": [
            "(4, 6)\n"
          ]
        }
      ],
      "source": [
        "class Vector:\n",
        "  def __init__(self, x,y):\n",
        "    self.x=x\n",
        "    self.y=y\n",
        "\n",
        "  def __add__(self,other):\n",
        "    return Vector(self.x+other.x, self.y+other.y)\n",
        "\n",
        "  def __str__ (self):\n",
        "    return f\"({self.x}, {self.y})\"\n",
        "\n",
        "v1 = Vector(1,2)\n",
        "v2 = Vector(3,4)\n",
        "total_sum = v1+v2\n",
        "print(total_sum)"
      ]
    },
    {
      "cell_type": "markdown",
      "metadata": {
        "id": "bJq6OG-hHH5Y"
      },
      "source": [
        "**Q.11  Create a class Person with attributes name and age. Add a method greet() that prints \"Hello, my name is\n",
        "{name} and I am {age} years old.\"**"
      ]
    },
    {
      "cell_type": "code",
      "source": [
        "class Person:\n",
        "  def __init__(self, name):\n",
        "    self.name = name\n",
        "\n",
        "  def age(self,age):\n",
        "    self.age= age\n",
        "\n",
        "  def greet(self):\n",
        "    print(f\"Hello, my name is {self.name} and I am {self.age} years old.\")\n",
        "\n",
        "person = Person(\"Radha\")\n",
        "person.age(21)\n",
        "person.greet()\n"
      ],
      "metadata": {
        "colab": {
          "base_uri": "https://localhost:8080/"
        },
        "id": "tLCk7sWSl5IX",
        "outputId": "e88048cd-f1b3-4a15-8f37-e057a2546428"
      },
      "execution_count": 55,
      "outputs": [
        {
          "output_type": "stream",
          "name": "stdout",
          "text": [
            "Hello, my name is Radha and I am 21 years old.\n"
          ]
        }
      ]
    },
    {
      "cell_type": "markdown",
      "metadata": {
        "id": "XsXAJmk3HNk2"
      },
      "source": [
        "**Q.12 Implement a class Student with attributes name and grades. Create a method average_grade() to compute\n",
        "the average of the grades.**"
      ]
    },
    {
      "cell_type": "code",
      "source": [
        "class Student:\n",
        "    def __init__(self, name, grades):\n",
        "        self.name = name\n",
        "        self.grades = grades\n",
        "\n",
        "    def average_grade(self):\n",
        "        return sum(self.grades) / len(self.grades)\n",
        "\n",
        "s1 = Student(\"Sita\", [95, 90, 93, 92,89])\n",
        "print(s1.average_grade())\n"
      ],
      "metadata": {
        "colab": {
          "base_uri": "https://localhost:8080/"
        },
        "id": "E7wIDMp3l3MZ",
        "outputId": "f5d328b0-9020-46f1-8623-ae41c2271c3f"
      },
      "execution_count": 129,
      "outputs": [
        {
          "output_type": "stream",
          "name": "stdout",
          "text": [
            "91.8\n"
          ]
        }
      ]
    },
    {
      "cell_type": "markdown",
      "metadata": {
        "id": "JL5nVzNmHUxi"
      },
      "source": [
        "**Q.13 Create a class Rectangle with methods set_dimensions() to set the dimensions and area() to calculate the\n",
        "area.**"
      ]
    },
    {
      "cell_type": "code",
      "execution_count": 120,
      "metadata": {
        "id": "CT8iUKz4HZmF",
        "colab": {
          "base_uri": "https://localhost:8080/"
        },
        "outputId": "5749f454-3b53-4a1f-cf51-803c7c31bcbb"
      },
      "outputs": [
        {
          "output_type": "stream",
          "name": "stdout",
          "text": [
            "90\n"
          ]
        }
      ],
      "source": [
        "class Rectangle:\n",
        "  def __init__ (self):\n",
        "    self.length =0\n",
        "    self.width = 0\n",
        "\n",
        "  def set_dimensions(self,length, width):\n",
        "    self.length = length\n",
        "    self.width =width\n",
        "\n",
        "  def area(self):\n",
        "    return self.length*self.width\n",
        "\n",
        "r1 = Rectangle()\n",
        "r1.set_dimensions(15,6)\n",
        "print(r1.area())"
      ]
    },
    {
      "cell_type": "markdown",
      "metadata": {
        "id": "yaE5HoB3HZ2f"
      },
      "source": [
        "**Q.14  Create a class Employee with a method calculate_salary() that computes the salary based on hours worked\n",
        "and hourly rate. Create a derived class Manager that adds a bonus to the salary.**"
      ]
    },
    {
      "cell_type": "code",
      "execution_count": 117,
      "metadata": {
        "id": "M8q303_aHfWV",
        "colab": {
          "base_uri": "https://localhost:8080/"
        },
        "outputId": "fb608d00-05e6-4728-9d84-6d51d446129c"
      },
      "outputs": [
        {
          "output_type": "stream",
          "name": "stdout",
          "text": [
            "27500\n"
          ]
        }
      ],
      "source": [
        "class Employee:\n",
        "  def __init__(self, name, hours_worked, hourly_rate):\n",
        "    self.name = name\n",
        "    self.hours_worked = hours_worked\n",
        "    self.hourly_rate = hourly_rate\n",
        "\n",
        "  def calculated_salary(self):\n",
        "    return self.hours_worked * self.hourly_rate\n",
        "\n",
        "\n",
        "class Manager(Employee):\n",
        "  def __init__(self, name, hours_worked, hourly_rate, bonus):\n",
        "    super().__init__(name, hours_worked, hourly_rate)\n",
        "    self.bonus = bonus\n",
        "\n",
        "  def total_salary(self):\n",
        "    return self.calculated_salary() + self.bonus\n",
        "\n",
        "M1 = Manager(\"Radha\", 45, 500, 5000)\n",
        "print(M1.total_salary())"
      ]
    },
    {
      "cell_type": "markdown",
      "metadata": {
        "id": "HHewuIwuHfqK"
      },
      "source": [
        "**Q.15 Create a class Product with attributes name, price, and quantity. Implement a method total_price() that\n",
        "calculates the total price of the product.**"
      ]
    },
    {
      "cell_type": "code",
      "execution_count": 113,
      "metadata": {
        "id": "dcwODZdiHmTs",
        "colab": {
          "base_uri": "https://localhost:8080/"
        },
        "outputId": "fae09e0a-87a4-480a-f709-5188091ab6e9"
      },
      "outputs": [
        {
          "output_type": "stream",
          "name": "stdout",
          "text": [
            "500\n"
          ]
        }
      ],
      "source": [
        "class Product:\n",
        "  def __init__ (self, name, price, quantity):\n",
        "    self.name = name\n",
        "    self.price = price\n",
        "    self.quantity = quantity\n",
        "\n",
        "  def total_price(self):\n",
        "    return self.price * self.quantity\n",
        "\n",
        "p1= Product(\"Tandoori_Gravy_Momo\", 100, 5)\n",
        "print(p1.total_price())"
      ]
    },
    {
      "cell_type": "markdown",
      "metadata": {
        "id": "dW_puLDbHnSw"
      },
      "source": [
        "**Q.16 Create a class Animal with an abstract method sound(). Create two derived classes Cow and Sheep that\n",
        "implement the sound() method.**"
      ]
    },
    {
      "cell_type": "code",
      "execution_count": 109,
      "metadata": {
        "id": "bBhIozh1HtVb",
        "colab": {
          "base_uri": "https://localhost:8080/",
          "height": 36
        },
        "outputId": "cee0ff48-96a8-4583-ad43-ae6d32e74d2f"
      },
      "outputs": [
        {
          "output_type": "execute_result",
          "data": {
            "text/plain": [
              "'Cows moo'"
            ],
            "application/vnd.google.colaboratory.intrinsic+json": {
              "type": "string"
            }
          },
          "metadata": {},
          "execution_count": 109
        }
      ],
      "source": [
        "from abc import ABC, abstractmethod\n",
        "\n",
        "class Animal(ABC):\n",
        "  @abstractmethod\n",
        "  def sound(self):\n",
        "    pass\n",
        "\n",
        "class Cow(Animal):\n",
        "  def sound(self):\n",
        "    return \"Cows moo\"\n",
        "\n",
        "c1= Cow()\n",
        "c1.sound()"
      ]
    },
    {
      "cell_type": "code",
      "source": [
        "class Sheep(Animal):\n",
        "  def sound(self):\n",
        "    return \"Sheeps baa\"\n",
        "\n",
        "s1 = Sheep()\n",
        "s1.sound()\n"
      ],
      "metadata": {
        "colab": {
          "base_uri": "https://localhost:8080/",
          "height": 36
        },
        "id": "WxeedVEk5JCv",
        "outputId": "5d47913f-0702-4de3-f09f-f2e7bb0dc18b"
      },
      "execution_count": 110,
      "outputs": [
        {
          "output_type": "execute_result",
          "data": {
            "text/plain": [
              "'Sheeps baa'"
            ],
            "application/vnd.google.colaboratory.intrinsic+json": {
              "type": "string"
            }
          },
          "metadata": {},
          "execution_count": 110
        }
      ]
    },
    {
      "cell_type": "markdown",
      "metadata": {
        "id": "ni3GVlFsHtsH"
      },
      "source": [
        "**Q.17 Create a class Book with attributes title, author, and year_published. Add a method get_book_info() that\n",
        "returns a formatted string with the book's details.**"
      ]
    },
    {
      "cell_type": "code",
      "execution_count": 107,
      "metadata": {
        "id": "oEmuL9CZHyd2",
        "colab": {
          "base_uri": "https://localhost:8080/"
        },
        "outputId": "a36fa040-ce49-47f9-8e5f-85bd60dd2d32"
      },
      "outputs": [
        {
          "output_type": "stream",
          "name": "stdout",
          "text": [
            "Title: The Accidental Data Analyst, Author: Arun Divakaran, Year Published: 2025\n"
          ]
        }
      ],
      "source": [
        "class Book:\n",
        "  def __init__ (self, title, author, year_published):\n",
        "    self.title = title\n",
        "    self.author = author\n",
        "    self.year_published = year_published\n",
        "\n",
        "  def book_details(self):\n",
        "    return f\"Title: {self.title}, Author: {self.author}, Year Published: {self.year_published}\"\n",
        "\n",
        "B1 = Book(\"The Accidental Data Analyst\", \"Arun Divakaran\", 2025)\n",
        "print(B1.book_details())\n"
      ]
    },
    {
      "cell_type": "markdown",
      "metadata": {
        "id": "u8gQloEWczGA"
      },
      "source": [
        "**Q.18 Create a class House with attributes address and price. Create a derived class Mansion that adds an attribute number_of_rooms.**"
      ]
    },
    {
      "cell_type": "code",
      "execution_count": 99,
      "metadata": {
        "id": "MZl-7odLpPwJ",
        "colab": {
          "base_uri": "https://localhost:8080/"
        },
        "outputId": "1a39a396-1d91-4f89-dc8b-977ae695d145"
      },
      "outputs": [
        {
          "output_type": "stream",
          "name": "stdout",
          "text": [
            "Address: 128, Sheeram Suhana, Bangalore, Price: 250000\n"
          ]
        }
      ],
      "source": [
        "class House:\n",
        "  def __init__ (self,address, price):\n",
        "    self.address = address\n",
        "    self.price = price\n",
        "\n",
        "  def details_of_house(self):\n",
        "    return f\"Address: {self.address}, Price: {self.price}\"\n",
        "\n",
        "H1 = House(\"128, Sheeram Suhana, Bangalore\", 250000)\n",
        "print(H1.details_of_house())"
      ]
    },
    {
      "cell_type": "code",
      "source": [
        "class Mansion(House):\n",
        "  def __init__(self, address, price, number_of_rooms):\n",
        "    super().__init__(address, price)\n",
        "    self.number_of_rooms = number_of_rooms\n",
        "\n",
        "  def details_of_mansion(self):\n",
        "    return f\"Address: {self.address}, Price: {self.price}, Number of rooms: {self.number_of_rooms}\"\n",
        "\n",
        "M1 = Mansion(\"192,Shreeram Suhaana, Yelahanka\", 43000000, 4)\n",
        "print(M1.details_of_mansion())"
      ],
      "metadata": {
        "colab": {
          "base_uri": "https://localhost:8080/"
        },
        "id": "2b_Bd-Im14PL",
        "outputId": "05331b15-f00e-4bfc-e33e-585933380a8e"
      },
      "execution_count": 105,
      "outputs": [
        {
          "output_type": "stream",
          "name": "stdout",
          "text": [
            "Address: 192,Shreeram Suhaana, Yelahanka, Price: 43000000, Number of rooms: 4\n"
          ]
        }
      ]
    }
  ],
  "metadata": {
    "colab": {
      "provenance": []
    },
    "kernelspec": {
      "display_name": "Python 3",
      "name": "python3"
    },
    "language_info": {
      "name": "python"
    }
  },
  "nbformat": 4,
  "nbformat_minor": 0
}